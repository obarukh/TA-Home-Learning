{
 "metadata": {
  "language_info": {
   "codemirror_mode": {
    "name": "ipython",
    "version": 3
   },
   "file_extension": ".py",
   "mimetype": "text/x-python",
   "name": "python",
   "nbconvert_exporter": "python",
   "pygments_lexer": "ipython3",
   "version": "3.9.6"
  },
  "orig_nbformat": 4,
  "kernelspec": {
   "name": "python3",
   "display_name": "Python 3.9.6 64-bit"
  },
  "interpreter": {
   "hash": "aee8b7b246df8f9039afb4144a1f6fd8d2ca17a180786b69acc140d282b71a49"
  }
 },
 "nbformat": 4,
 "nbformat_minor": 2,
 "cells": [
  {
   "cell_type": "code",
   "execution_count": 19,
   "metadata": {},
   "outputs": [
    {
     "output_type": "stream",
     "name": "stdout",
     "text": [
      "3,45,83,21,\n"
     ]
    }
   ],
   "source": [
    "#Python tasks\n",
    "#writing a file\n",
    "\n",
    "numbers = [3, 45, 83, 21]\n",
    "my_file = open(\"numbers.txt\", \"w\")\n",
    "for i in numbers:\n",
    "    my_file.write(str(i))\n",
    "    my_file.write(\"\\n\")\n",
    "\n",
    "my_file.close()\n",
    "\n",
    "#reading a file\n",
    "\n",
    "with open(\"numbers.txt\", \"r\") as my_file:\n",
    "    data = my_file.read().replace(\"\\n\", \",\")\n",
    "print(data)\n",
    "\n",
    "my_file.close()\n",
    "\n",
    "#appending to a file\n",
    "\n",
    "my_file = open(\"numbers.txt\", \"a\")\n",
    "my_file.write(\"100 \\n\")\n",
    "my_file.close()\n",
    "\n",
    "\n",
    "\n",
    "\n",
    "\n",
    "\n",
    "\n",
    "\n"
   ]
  },
  {
   "cell_type": "code",
   "execution_count": 25,
   "metadata": {},
   "outputs": [
    {
     "output_type": "stream",
     "name": "stdout",
     "text": [
      "95.5 %\n"
     ]
    }
   ],
   "source": [
    "#Write a program to ask a student for their percentage mark and convert this to a grade.The conversion will be done in a function called mark_grade\n",
    "percentage_mark = float(input(\"Enter your percentage mark here: \"))\n",
    "\n",
    "print(percentage_mark, \"%\")\n",
    "\n",
    "def mark_grade(final_grade):\n",
    "\n",
    "    if percentage_mark > 90:\n",
    "        print(\"Grade: A+\")\n",
    "    elif percentage_mark > 80:\n",
    "        print(\"Grade A\")\n",
    "    elif percentage_mark > 70:\n",
    "        print(\"Grade B+\")\n",
    "    elif percentage_mark > 60:\n",
    "        print(\"Grade B2\")\n",
    "    else:\n",
    "        print(\"Grade F\")\n",
    "    return final_grade"
   ]
  },
  {
   "cell_type": "code",
   "execution_count": 13,
   "metadata": {},
   "outputs": [
    {
     "output_type": "stream",
     "name": "stdout",
     "text": [
      "A+ A\nJob Well done\n"
     ]
    }
   ],
   "source": [
    "#Extension task2\n",
    "user_input_1 = input(\"Enter your target grade: \")\n",
    "user_input_2   = input(\"Enter your exam grade: \")\n",
    "print(user_input_1, user_input_2 )\n",
    "\n",
    "if user_input_1 > user_input_2:\n",
    "    print(\"Job Well done\")\n",
    "elif user_input_1 == user_input_2:\n",
    "    print(\"Work harder next time\")\n",
    "elif user_input_1 < user_input_2:\n",
    "    print(\"Wake up dude!\")\n"
   ]
  }
 ]
}