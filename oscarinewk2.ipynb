{
 "metadata": {
  "language_info": {
   "codemirror_mode": {
    "name": "ipython",
    "version": 3
   },
   "file_extension": ".py",
   "mimetype": "text/x-python",
   "name": "python",
   "nbconvert_exporter": "python",
   "pygments_lexer": "ipython3",
   "version": "3.9.6"
  },
  "orig_nbformat": 4,
  "kernelspec": {
   "name": "python3",
   "display_name": "Python 3.9.6 64-bit"
  },
  "interpreter": {
   "hash": "aee8b7b246df8f9039afb4144a1f6fd8d2ca17a180786b69acc140d282b71a49"
  }
 },
 "nbformat": 4,
 "nbformat_minor": 2,
 "cells": [
  {
   "cell_type": "code",
   "execution_count": 48,
   "metadata": {},
   "outputs": [
    {
     "output_type": "error",
     "ename": "SyntaxError",
     "evalue": "invalid syntax (3176624753.py, line 10)",
     "traceback": [
      "\u001b[0;36m  File \u001b[0;32m\"/var/folders/w0/qyf04tcd387cm348rrrtk9dr0000gn/T/ipykernel_10002/3176624753.py\"\u001b[0;36m, line \u001b[0;32m10\u001b[0m\n\u001b[0;31m    if (var2 not var3) == 1:\u001b[0m\n\u001b[0m                 ^\u001b[0m\n\u001b[0;31mSyntaxError\u001b[0m\u001b[0;31m:\u001b[0m invalid syntax\n"
     ]
    }
   ],
   "source": [
    "print(\"Task1\")\n",
    "print(\"get a cup and put teabag in cup\")\n",
    "print(\"pour water in kettle and boil it\")\n",
    "var = \"boiled_water\"\n",
    "var2 = \"add-_ugar\"\n",
    "var3 = \"add_milk\"\n",
    "\n",
    "if var == 1:\n",
    "    print(\"pour water in cup\")\n",
    "    if (var2 not var3) == 1:\n",
    "        print(\"Add teaspoon and stir\")\n",
    "    elif (var3 not var2) == 1:\n",
    "            print(\"Add milk and stir\")\n",
    "    else:\n",
    "        print(\"Tea's delicious\")\n",
    "print(\"Dont know how to fix this syntax\")\n"
   ]
  },
  {
   "cell_type": "code",
   "execution_count": 43,
   "metadata": {},
   "outputs": [
    {
     "output_type": "stream",
     "name": "stdout",
     "text": [
      "Task2\n"
     ]
    }
   ],
   "source": [
    "print(\"Task2\")\n",
    "inital_value = 2000\n",
    "depreciation_amount = 0.9\n",
    "def calculator(initial_value, depreciation_amount):\n",
    "    while initial_value > 1000:\n",
    "        print(\"The value is: \", initial_value)\n",
    "        value = initial_value * depreciation_amount\n",
    "\n",
    "\n"
   ]
  },
  {
   "cell_type": "code",
   "execution_count": 3,
   "metadata": {},
   "outputs": [
    {
     "output_type": "stream",
     "name": "stdout",
     "text": [
      "Task3\n",
      "Select operator.\n",
      "1.Add\n",
      "2.Subtract\n",
      "3.Multiply\n",
      "4.Divide\n",
      "40 * 50 = 2000\n"
     ]
    }
   ],
   "source": [
    "print(\"Task3\")\n",
    "def add(num1, num2):\n",
    "    return x + y\n",
    "\n",
    "def subtract(num1, num2):\n",
    "    return num1 - num2\n",
    "    \n",
    "def multiply(num1, num2):\n",
    "    return num1 * num2\n",
    "\n",
    "def divide(num1, num2):\n",
    "    return num1 / num2\n",
    "\n",
    "print(\"Select operator.\")\n",
    "print(\"1.Add\")\n",
    "print(\"2.Subtract\")\n",
    "print(\"3.Multiply\")\n",
    "print(\"4.Divide\")\n",
    "\n",
    "choice = input(\"Enter choice (1/2/3/4: \")\n",
    "\n",
    "if choice in (\"1\", \"2\", \"3\", \"4\"):\n",
    "    num1 = int(input(\"Enter firt value: \"))\n",
    "    num2 = int(input(\"Enter second value: \"))\n",
    "\n",
    "    if choice == \"1\":\n",
    "        print(num1, \"+\", num2, \"=\", add(num1 , num2))\n",
    "    elif choice == \"2\":\n",
    "        print(num1, \"-\", num2, \"=\", subtract(num1, num2))\n",
    "    elif choice == \"3\":\n",
    "        print(num1, \"*\", num2, \"=\", multiply(num1, num2))\n",
    "    elif choice == \"4\":\n",
    "        print(num1, \"/\", num2, \"=\", divide(num1, num2))\n",
    "    else:\n",
    "        print(\"inalid input\")\n",
    "\n",
    "\n"
   ]
  }
 ]
}