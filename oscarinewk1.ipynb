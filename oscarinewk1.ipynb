{
 "metadata": {
  "language_info": {
   "codemirror_mode": {
    "name": "ipython",
    "version": 3
   },
   "file_extension": ".py",
   "mimetype": "text/x-python",
   "name": "python",
   "nbconvert_exporter": "python",
   "pygments_lexer": "ipython3",
   "version": "3.9.6"
  },
  "orig_nbformat": 4,
  "kernelspec": {
   "name": "python3",
   "display_name": "Python 3.9.6 64-bit ('3.9')"
  },
  "interpreter": {
   "hash": "7812ea015bdcee6f23a998adcdd2ef97c151c0c241b7b7070987d9313e41299d"
  }
 },
 "nbformat": 4,
 "nbformat_minor": 2,
 "cells": [
  {
   "cell_type": "code",
   "execution_count": 1,
   "metadata": {},
   "outputs": [
    {
     "output_type": "stream",
     "name": "stdout",
     "text": [
      "Hello, World\n"
     ]
    }
   ],
   "source": [
    "print(\"Hello, World\")"
   ]
  },
  {
   "cell_type": "code",
   "execution_count": 6,
   "metadata": {},
   "outputs": [
    {
     "output_type": "stream",
     "name": "stdout",
     "text": [
      "Well,AdaI am thinking of a number between 1 and 10.\n",
      "Wrong, beter luck next time\n"
     ]
    }
   ],
   "source": [
    "import random\n",
    "myName = input(\"Hello! what is your name?\")\n",
    "number = random.randint(1,10)\n",
    "print(\"Well,\"+myName+ \"I am thinking of a number between 1 and 10.\")\n",
    "guess = int(input(\"Take a guess\"))\n",
    "\n",
    "if guess == number:\n",
    "    print(\"Good job,\"+myName+ \"!you guessed my number\")\n",
    "else:\n",
    "    print(\"Wrong, beter luck next time\")\n",
    "\n"
   ]
  },
  {
   "cell_type": "code",
   "execution_count": 21,
   "metadata": {},
   "outputs": [
    {
     "output_type": "stream",
     "name": "stdout",
     "text": [
      "50\nAre you having fun yet?\n"
     ]
    }
   ],
   "source": [
    "user_input = input(\"What is your favourite number between 1 and 100?\")\n",
    "print(user_input)\n",
    "\n",
    "if int(user_input) < 45:\n",
    "    print(\"Why does the giraffe have a long neck?\")\n",
    "elif int(user_input) > 50:\n",
    "    print(\"Why did the chicken cross the road?\") \n",
    "elif int(user_input) == 100:\n",
    "    print(\"I am Einstein\")\n",
    "else:\n",
    "    print(\"Are you having fun yet?\")"
   ]
  },
  {
   "cell_type": "code",
   "execution_count": null,
   "metadata": {},
   "outputs": [],
   "source": [
    "starter = input(\"Enter your favourite starter\")\n",
    "print(starter)\n",
    "main = input(\"Enter your favourite main course\")\n",
    "print(main)\n",
    "dessert = input(\"Enter your favourite dessert\")\n",
    "print(dessert)\n",
    "drink = input(\"Enter your favourite drink\")\n",
    "print(drink)\n",
    "print(\"Your favourite meal is\", starter+\" \"+main+\" \"+dessert+\" \"+drink)\n"
   ]
  },
  {
   "cell_type": "code",
   "execution_count": null,
   "metadata": {},
   "outputs": [],
   "source": [
    "value = 2000\n",
    "while value > 1000:\n",
    "    print(\"£\", value)\n",
    "    value = value * 0.9"
   ]
  },
  {
   "cell_type": "code",
   "execution_count": null,
   "metadata": {},
   "outputs": [],
   "source": [
    "x = (input(\"Enter your first number\"))\n",
    "y = (input(\"Enter your second number\"))\n",
    "print(x)\n",
    "print(y)\n",
    "add= (input(\"Enter a to add\")\n",
    "multiply = (input(\"Enter b to muliply\")\n",
    "divide = input(\"Enter c to divide\")\n",
    "subtract  = input(\"Enter d to subtract\")\n",
    "print(x * y)\n",
    "\n",
    "\n"
   ]
  },
  {
   "cell_type": "code",
   "execution_count": null,
   "metadata": {},
   "outputs": [],
   "source": []
  }
 ]
}